{
  "nbformat": 4,
  "nbformat_minor": 0,
  "metadata": {
    "colab": {
      "name": "Combinations_sum.ipynb",
      "provenance": [],
      "include_colab_link": true
    },
    "kernelspec": {
      "name": "python3",
      "display_name": "Python 3"
    }
  },
  "cells": [
    {
      "cell_type": "markdown",
      "metadata": {
        "id": "view-in-github",
        "colab_type": "text"
      },
      "source": [
        "<a href=\"https://colab.research.google.com/github/Brent-Morrison/Custom_functions/blob/master/Combinations_sum.ipynb\" target=\"_parent\"><img src=\"https://colab.research.google.com/assets/colab-badge.svg\" alt=\"Open In Colab\"/></a>"
      ]
    },
    {
      "cell_type": "code",
      "metadata": {
        "id": "J6JWQMierVFq",
        "colab_type": "code",
        "outputId": "a6904ffe-ee7b-4efc-d240-6860ce1cec35",
        "colab": {
          "base_uri": "https://localhost:8080/",
          "height": 34
        }
      },
      "source": [
        "#https://stackoverflow.com/questions/34517540/find-all-combinations-of-a-list-of-numbers-with-a-given-sum\n",
        "\n",
        "def subset_sum(numbers, target, partial=[]):\n",
        "    s = sum(partial)\n",
        "\n",
        "    # check if the partial sum is equals to target\n",
        "    if s == target:\n",
        "        print(\"sum(%s)=%s\" % (partial, target))\n",
        "    if s >= target:\n",
        "        return  # if we reach the number why bother to continue\n",
        "\n",
        "    for i in range(len(numbers)):\n",
        "        n = numbers[i]\n",
        "        remaining = numbers[i + 1:]\n",
        "        subset_sum(remaining, target, partial + [n])\n",
        "\n",
        "\n",
        "if __name__ == \"__main__\":\n",
        "    subset_sum([5395, 1323, 65, 7443, 28, 86, 94, 61, 216, 132, 1340], 14483)"
      ],
      "execution_count": 0,
      "outputs": [
        {
          "output_type": "stream",
          "text": [
            "sum([5395, 7443, 28, 61, 216, 1340])=14483\n"
          ],
          "name": "stdout"
        }
      ]
    }
  ]
}